{
 "cells": [
  {
   "cell_type": "code",
   "execution_count": null,
   "metadata": {},
   "outputs": [],
   "source": [
    "#default_exp experiments"
   ]
  },
  {
   "cell_type": "code",
   "execution_count": null,
   "metadata": {},
   "outputs": [
    {
     "name": "stdout",
     "output_type": "stream",
     "text": [
      "The autoreload extension is already loaded. To reload it, use:\n",
      "  %reload_ext autoreload\n"
     ]
    }
   ],
   "source": [
    "%load_ext autoreload\n",
    "%autoreload 2\n",
    "from pwc_gabor_layer.core import GaborLayer, SigmaRegularizer\n",
    "import tensorflow_datasets as tfds\n",
    "import matplotlib.pyplot as plt\n",
    "import tensorflow as tf\n",
    "from tensorflow import keras\n",
    "import numpy as np"
   ]
  },
  {
   "cell_type": "markdown",
   "metadata": {},
   "source": [
    "## First load mnist \n",
    "\n",
    "Data processing as in the tensorflow datasets tutorial, this is just for an example. And more specifically for fixing issues with backpropagtion!"
   ]
  },
  {
   "cell_type": "code",
   "execution_count": null,
   "metadata": {},
   "outputs": [],
   "source": [
    "(ds_train, ds_test), ds_info = tfds.load('mnist', split=['train', 'test'], shuffle_files=True, \n",
    "                         as_supervised=True, with_info=True)\n",
    "\n",
    "def normalize_img(image, label):\n",
    "  \"\"\"Normalizes images: `uint8` -> `float32`.\"\"\"\n",
    "  return tf.cast(image, tf.float32) / 255., label\n",
    "\n",
    "ds_train = ds_train.map(\n",
    "    normalize_img, num_parallel_calls=tf.data.experimental.AUTOTUNE)\n",
    "ds_train = ds_train.cache()\n",
    "ds_train = ds_train.shuffle(ds_info.splits['train'].num_examples)\n",
    "ds_train = ds_train.batch(128)\n",
    "ds_train = ds_train.prefetch(tf.data.experimental.AUTOTUNE)\n",
    "\n",
    "ds_test = ds_test.map(\n",
    "    normalize_img, num_parallel_calls=tf.data.experimental.AUTOTUNE)\n",
    "ds_test = ds_test.batch(128)\n",
    "ds_test = ds_test.cache()\n",
    "ds_test = ds_test.prefetch(tf.data.experimental.AUTOTUNE)"
   ]
  },
  {
   "cell_type": "markdown",
   "metadata": {},
   "source": [
    "Some MNIST examples."
   ]
  },
  {
   "cell_type": "code",
   "execution_count": null,
   "metadata": {},
   "outputs": [
    {
     "data": {
      "image/png": "[encoded data removed]",
      "text/plain": [
       "<Figure size 648x648 with 9 Axes>"
      ]
     },
     "metadata": {},
     "output_type": "display_data"
    }
   ],
   "source": [
    "# tfds.show_examples does not go with supervised features\n",
    "ds_viz, viz_info = tfds.load('mnist', split='test', shuffle_files=True, \n",
    "                         as_supervised=False, with_info=True)\n",
    "\n",
    "tfds.show_examples(ds_viz, viz_info);\n",
    "\n",
    "# Some settings for later\n",
    "ds_viz = ds_viz.batch(16)\n",
    "ds_viz = ds_viz.cache()"
   ]
  },
  {
   "cell_type": "markdown",
   "metadata": {},
   "source": [
    "## Apply kernel to MNIST"
   ]
  },
  {
   "cell_type": "code",
   "execution_count": null,
   "metadata": {},
   "outputs": [],
   "source": [
    "GL = GaborLayer(filters=2, kernel_size=(7, 7), orientations=8, use_alphas=False, activation=None)\n",
    "GL.build([None, 28, 28, 1])"
   ]
  },
  {
   "cell_type": "markdown",
   "metadata": {},
   "source": [
    "Get a single element of MNIST dataset"
   ]
  },
  {
   "cell_type": "code",
   "execution_count": null,
   "metadata": {},
   "outputs": [
    {
     "data": {
      "text/plain": [
       "<matplotlib.image.AxesImage at 0x204c622be88>"
      ]
     },
     "execution_count": null,
     "metadata": {},
     "output_type": "execute_result"
    },
    {
     "data": {
      "image/png": "[encoded data removed]",
      "text/plain": [
       "<Figure size 432x288 with 4 Axes>"
      ]
     },
     "metadata": {
      "needs_background": "light"
     },
     "output_type": "display_data"
    }
   ],
   "source": [
    "one_batch = np.stack(list(ds_viz))[0]['image']\n",
    "\n",
    "blub = GL.call(tf.cast(one_batch[:1, :, :, :]/255, tf.float32))\n",
    "\n",
    "n1 = 6; n2 = n1 + 1\n",
    "\n",
    "plt.subplot(141)\n",
    "plt.imshow(one_batch[0,:,:,0], cmap='Greys')\n",
    "plt.subplot(142)\n",
    "plt.imshow(blub[0, :, :, n1], cmap='Greys')\n",
    "plt.subplot(143)\n",
    "plt.imshow(blub[0, :, :, n2], cmap='Greys')\n",
    "plt.subplot(144)\n",
    "plt.imshow(blub[0, :, :, n1]-blub[0, :, :, n2], cmap='Greys')"
   ]
  },
  {
   "cell_type": "code",
   "execution_count": null,
   "metadata": {},
   "outputs": [],
   "source": []
  },
  {
   "cell_type": "code",
   "execution_count": null,
   "metadata": {},
   "outputs": [],
   "source": [
    "test_gl =  GaborLayer(filters=16, kernel_size=(7,7), orientations=8, \n",
    "                      activation='relu', use_bias=False, use_alphas=False, learn_orientations=False,\n",
    "                     sigma_regularizer=SigmaRegularizer(factor=0.5))\n",
    "model = keras.models.Sequential([\n",
    "                        keras.layers.Input([28, 28, 1]),\n",
    "                        test_gl,\n",
    "                         keras.layers.Flatten(),\n",
    "                        keras.layers.Dense(10, activation='softmax')])"
   ]
  },
  {
   "cell_type": "code",
   "execution_count": null,
   "metadata": {},
   "outputs": [
    {
     "name": "stdout",
     "output_type": "stream",
     "text": [
      "Model: \"sequential_4\"\n",
      "_________________________________________________________________\n",
      "Layer (type)                 Output Shape              Param #   \n",
      "=================================================================\n",
      "gabor_layer_5 (GaborLayer)   (None, 28, 28, 128)       170       \n",
      "_________________________________________________________________\n",
      "flatten_4 (Flatten)          (None, 100352)            0         \n",
      "_________________________________________________________________\n",
      "dense_4 (Dense)              (None, 10)                1003530   \n",
      "=================================================================\n",
      "Total params: 1,003,700\n",
      "Trainable params: 1,003,594\n",
      "Non-trainable params: 106\n",
      "_________________________________________________________________\n"
     ]
    }
   ],
   "source": [
    "model.summary()"
   ]
  },
  {
   "cell_type": "code",
   "execution_count": null,
   "metadata": {},
   "outputs": [],
   "source": [
    "model.compile(loss='sparse_categorical_crossentropy', metrics='accuracy')"
   ]
  },
  {
   "cell_type": "code",
   "execution_count": null,
   "metadata": {},
   "outputs": [],
   "source": []
  },
  {
   "cell_type": "code",
   "execution_count": null,
   "metadata": {},
   "outputs": [
    {
     "name": "stdout",
     "output_type": "stream",
     "text": [
      "469/469 [==============================] - 78s 167ms/step - loss: 136.6447 - accuracy: 0.7341 - val_loss: 43.7199 - val_accuracy: 0.8780\n"
     ]
    },
    {
     "data": {
      "text/plain": [
       "<tensorflow.python.keras.callbacks.History at 0x204dd841708>"
      ]
     },
     "execution_count": null,
     "metadata": {},
     "output_type": "execute_result"
    }
   ],
   "source": [
    "model.fit(ds_train, validation_data=ds_test)"
   ]
  },
  {
   "cell_type": "code",
   "execution_count": null,
   "metadata": {},
   "outputs": [],
   "source": [
    "kernel = tf.transpose(GL.kernel, [1, 2, 3, 0])\n",
    "\n",
    "kernel = tf.repeat(kernel, 2, axis=2)"
   ]
  },
  {
   "cell_type": "code",
   "execution_count": null,
   "metadata": {},
   "outputs": [],
   "source": [
    "x = np.stack(list(ds_viz))[0]['image']\n",
    "y = np.stack(list(ds_viz))[0]['label']"
   ]
  },
  {
   "cell_type": "code",
   "execution_count": null,
   "metadata": {},
   "outputs": [],
   "source": []
  },
  {
   "cell_type": "code",
   "execution_count": null,
   "metadata": {},
   "outputs": [],
   "source": [
    "def get_gradient(model, x, y):\n",
    "    #taping the gradients\n",
    "    with tf.GradientTape() as tape:\n",
    "        #model predictions\n",
    "        preds = model(x)\n",
    "        #getting the loss\n",
    "        loss = tf.keras.losses.sparse_categorical_crossentropy(y, preds)\n",
    "\n",
    "    grads = tape.gradient(loss, model.trainable_variables)\n",
    "    return grads\n",
    "\n",
    "grads = get_gradient(model, x, y)"
   ]
  },
  {
   "cell_type": "code",
   "execution_count": null,
   "metadata": {},
   "outputs": [
    {
     "name": "stdout",
     "output_type": "stream",
     "text": [
      "gabor_layer_5/gammas:0\n",
      "tf.Tensor(\n",
      "[[[[[ 0.]]]]\n",
      "\n",
      "\n",
      "\n",
      " [[[[ 0.]]]]\n",
      "\n",
      "\n",
      "\n",
      " [[[[ 0.]]]]\n",
      "\n",
      "\n",
      "\n",
      " [[[[ 0.]]]]\n",
      "\n",
      "\n",
      "\n",
      " [[[[ 0.]]]]\n",
      "\n",
      "\n",
      "\n",
      " [[[[-0.]]]]\n",
      "\n",
      "\n",
      "\n",
      " [[[[ 0.]]]]\n",
      "\n",
      "\n",
      "\n",
      " [[[[-0.]]]]\n",
      "\n",
      "\n",
      "\n",
      " [[[[ 0.]]]]\n",
      "\n",
      "\n",
      "\n",
      " [[[[-0.]]]]\n",
      "\n",
      "\n",
      "\n",
      " [[[[ 0.]]]]\n",
      "\n",
      "\n",
      "\n",
      " [[[[ 0.]]]]\n",
      "\n",
      "\n",
      "\n",
      " [[[[-0.]]]]\n",
      "\n",
      "\n",
      "\n",
      " [[[[-0.]]]]\n",
      "\n",
      "\n",
      "\n",
      " [[[[ 0.]]]]\n",
      "\n",
      "\n",
      "\n",
      " [[[[ 0.]]]]], shape=(16, 1, 1, 1, 1), dtype=float32)\n",
      "--------------------------------------------------\n",
      "gabor_layer_5/psis:0\n",
      "tf.Tensor(\n",
      "[[[[[0.]]]]\n",
      "\n",
      "\n",
      "\n",
      " [[[[0.]]]]\n",
      "\n",
      "\n",
      "\n",
      " [[[[0.]]]]\n",
      "\n",
      "\n",
      "\n",
      " [[[[0.]]]]\n",
      "\n",
      "\n",
      "\n",
      " [[[[0.]]]]\n",
      "\n",
      "\n",
      "\n",
      " [[[[0.]]]]\n",
      "\n",
      "\n",
      "\n",
      " [[[[0.]]]]\n",
      "\n",
      "\n",
      "\n",
      " [[[[0.]]]]\n",
      "\n",
      "\n",
      "\n",
      " [[[[0.]]]]\n",
      "\n",
      "\n",
      "\n",
      " [[[[0.]]]]\n",
      "\n",
      "\n",
      "\n",
      " [[[[0.]]]]\n",
      "\n",
      "\n",
      "\n",
      " [[[[0.]]]]\n",
      "\n",
      "\n",
      "\n",
      " [[[[0.]]]]\n",
      "\n",
      "\n",
      "\n",
      " [[[[0.]]]]\n",
      "\n",
      "\n",
      "\n",
      " [[[[0.]]]]\n",
      "\n",
      "\n",
      "\n",
      " [[[[0.]]]]], shape=(16, 1, 1, 1, 1), dtype=float32)\n",
      "--------------------------------------------------\n",
      "gabor_layer_5/sigmas:0\n",
      "tf.Tensor(\n",
      "[[[[[-0.]]]]\n",
      "\n",
      "\n",
      "\n",
      " [[[[ 0.]]]]\n",
      "\n",
      "\n",
      "\n",
      " [[[[ 0.]]]]\n",
      "\n",
      "\n",
      "\n",
      " [[[[-0.]]]]\n",
      "\n",
      "\n",
      "\n",
      " [[[[-0.]]]]\n",
      "\n",
      "\n",
      "\n",
      " [[[[-0.]]]]\n",
      "\n",
      "\n",
      "\n",
      " [[[[-0.]]]]\n",
      "\n",
      "\n",
      "\n",
      " [[[[ 0.]]]]\n",
      "\n",
      "\n",
      "\n",
      " [[[[ 0.]]]]\n",
      "\n",
      "\n",
      "\n",
      " [[[[ 0.]]]]\n",
      "\n",
      "\n",
      "\n",
      " [[[[ 0.]]]]\n",
      "\n",
      "\n",
      "\n",
      " [[[[-0.]]]]\n",
      "\n",
      "\n",
      "\n",
      " [[[[-0.]]]]\n",
      "\n",
      "\n",
      "\n",
      " [[[[-0.]]]]\n",
      "\n",
      "\n",
      "\n",
      " [[[[-0.]]]]\n",
      "\n",
      "\n",
      "\n",
      " [[[[-0.]]]]], shape=(16, 1, 1, 1, 1), dtype=float32)\n",
      "--------------------------------------------------\n",
      "gabor_layer_5/lambdas:0\n",
      "tf.Tensor(\n",
      "[[[[[0.]]]]\n",
      "\n",
      "\n",
      "\n",
      " [[[[0.]]]]\n",
      "\n",
      "\n",
      "\n",
      " [[[[0.]]]]\n",
      "\n",
      "\n",
      "\n",
      " [[[[0.]]]]\n",
      "\n",
      "\n",
      "\n",
      " [[[[0.]]]]\n",
      "\n",
      "\n",
      "\n",
      " [[[[0.]]]]\n",
      "\n",
      "\n",
      "\n",
      " [[[[0.]]]]\n",
      "\n",
      "\n",
      "\n",
      " [[[[0.]]]]\n",
      "\n",
      "\n",
      "\n",
      " [[[[0.]]]]\n",
      "\n",
      "\n",
      "\n",
      " [[[[0.]]]]\n",
      "\n",
      "\n",
      "\n",
      " [[[[0.]]]]\n",
      "\n",
      "\n",
      "\n",
      " [[[[0.]]]]\n",
      "\n",
      "\n",
      "\n",
      " [[[[0.]]]]\n",
      "\n",
      "\n",
      "\n",
      " [[[[0.]]]]\n",
      "\n",
      "\n",
      "\n",
      " [[[[0.]]]]\n",
      "\n",
      "\n",
      "\n",
      " [[[[0.]]]]], shape=(16, 1, 1, 1, 1), dtype=float32)\n",
      "--------------------------------------------------\n",
      "dense_4/kernel:0\n",
      "tf.Tensor(\n",
      "[[0. 0. 0. ... 0. 0. 0.]\n",
      " [0. 0. 0. ... 0. 0. 0.]\n",
      " [0. 0. 0. ... 0. 0. 0.]\n",
      " ...\n",
      " [0. 0. 0. ... 0. 0. 0.]\n",
      " [0. 0. 0. ... 0. 0. 0.]\n",
      " [0. 0. 0. ... 0. 0. 0.]], shape=(100352, 10), dtype=float32)\n",
      "--------------------------------------------------\n",
      "dense_4/bias:0\n",
      "tf.Tensor([0. 0. 0. 0. 0. 0. 0. 0. 0. 0.], shape=(10,), dtype=float32)\n",
      "--------------------------------------------------\n"
     ]
    }
   ],
   "source": [
    "for g,v in list(zip(grads, model.trainable_variables)):\n",
    "    print(v.name)\n",
    "    print(g)\n",
    "    #print(tf.math.reduce_mean(g).numpy())\n",
    "    print('-'*50)"
   ]
  },
  {
   "cell_type": "code",
   "execution_count": null,
   "metadata": {},
   "outputs": [
    {
     "data": {
      "image/png": "[encoded data removed]",
      "text/plain": [
       "<Figure size 432x288 with 32 Axes>"
      ]
     },
     "metadata": {
      "needs_background": "light"
     },
     "output_type": "display_data"
    }
   ],
   "source": [
    "fig, axes = plt.subplots(2, 16)\n",
    "\n",
    "for n, ax in enumerate(axes.flatten()[:16]):\n",
    "    ax.imshow(test_gl.kernel[n,:,:,0])\n",
    "    ax.axis('off')\n",
    "    \n",
    "for n, ax in enumerate(axes.flatten()[16:]):\n",
    "    ax.imshow(GL.kernel[n,:,:,0])\n",
    "    ax.axis('off')"
   ]
  },
  {
   "cell_type": "code",
   "execution_count": null,
   "metadata": {},
   "outputs": [],
   "source": []
  },
  {
   "cell_type": "code",
   "execution_count": null,
   "metadata": {},
   "outputs": [],
   "source": []
  }
 ],
 "metadata": {
  "kernelspec": {
   "display_name": "Handson",
   "language": "python",
   "name": "handson_ml"
  }
 },
 "nbformat": 4,
 "nbformat_minor": 4
}
