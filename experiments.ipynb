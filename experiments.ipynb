{
 "cells": [
  {
   "cell_type": "code",
   "execution_count": null,
   "metadata": {},
   "outputs": [],
   "source": [
    "#default_exp experiments"
   ]
  },
  {
   "cell_type": "code",
   "execution_count": null,
   "metadata": {},
   "outputs": [],
   "source": [
    "%load_ext autoreload\n",
    "%autoreload 2\n",
    "from pwc_gabor_layer.core import GaborLayer, SigmaRegularizer\n",
    "import tensorflow_datasets as tfds\n",
    "import matplotlib.pyplot as plt\n",
    "import tensorflow as tf\n",
    "from tensorflow import keras\n",
    "import numpy as np"
   ]
  },
  {
   "cell_type": "markdown",
   "metadata": {},
   "source": [
    "## First load mnist \n",
    "\n",
    "Data processing as in the tensorflow datasets tutorial, this is just for an example. And more specifically for fixing issues with backpropagtion!"
   ]
  },
  {
   "cell_type": "code",
   "execution_count": null,
   "metadata": {},
   "outputs": [],
   "source": [
    "(ds_train, ds_test), ds_info = tfds.load('mnist', split=['train', 'test'], shuffle_files=True, \n",
    "                         as_supervised=True, with_info=True)\n",
    "\n",
    "def normalize_img(image, label):\n",
    "  \"\"\"Normalizes images: `uint8` -> `float32`.\"\"\"\n",
    "  return tf.cast(image, tf.float32) / 255., label\n",
    "\n",
    "ds_train = ds_train.map(\n",
    "    normalize_img, num_parallel_calls=tf.data.experimental.AUTOTUNE)\n",
    "ds_train = ds_train.cache()\n",
    "ds_train = ds_train.shuffle(ds_info.splits['train'].num_examples)\n",
    "ds_train = ds_train.batch(128)\n",
    "ds_train = ds_train.prefetch(tf.data.experimental.AUTOTUNE)\n",
    "\n",
    "ds_test = ds_test.map(\n",
    "    normalize_img, num_parallel_calls=tf.data.experimental.AUTOTUNE)\n",
    "ds_test = ds_test.batch(128)\n",
    "ds_test = ds_test.cache()\n",
    "ds_test = ds_test.prefetch(tf.data.experimental.AUTOTUNE)"
   ]
  },
  {
   "cell_type": "markdown",
   "metadata": {},
   "source": [
    "Some MNIST examples."
   ]
  },
  {
   "cell_type": "code",
   "execution_count": null,
   "metadata": {},
   "outputs": [
    {
     "data": {
      "image/png": "[encoded data removed]",
      "text/plain": [
       "<Figure size 648x648 with 9 Axes>"
      ]
     },
     "metadata": {},
     "output_type": "display_data"
    }
   ],
   "source": [
    "# tfds.show_examples does not go with supervised features\n",
    "ds_viz, viz_info = tfds.load('mnist', split='test', shuffle_files=True, \n",
    "                         as_supervised=False, with_info=True)\n",
    "\n",
    "tfds.show_examples(ds_viz, viz_info);\n",
    "\n",
    "# Some settings for later\n",
    "ds_viz = ds_viz.batch(16)\n",
    "ds_viz = ds_viz.cache()"
   ]
  },
  {
   "cell_type": "markdown",
   "metadata": {},
   "source": [
    "## Apply kernel to MNIST"
   ]
  },
  {
   "cell_type": "code",
   "execution_count": null,
   "metadata": {},
   "outputs": [],
   "source": [
    "GL = GaborLayer(filters=2, kernel_size=(7, 7), orientations=8, use_alphas=False, activation=None)\n",
    "GL.build([None, 28, 28, 1])"
   ]
  },
  {
   "cell_type": "markdown",
   "metadata": {},
   "source": [
    "Get a single element of MNIST dataset"
   ]
  },
  {
   "cell_type": "code",
   "execution_count": null,
   "metadata": {},
   "outputs": [
    {
     "data": {
      "text/plain": [
       "<matplotlib.image.AxesImage at 0x2809f3012c8>"
      ]
     },
     "execution_count": null,
     "metadata": {},
     "output_type": "execute_result"
    },
    {
     "data": {
      "image/png": "[encoded data removed]",
      "text/plain": [
       "<Figure size 432x288 with 4 Axes>"
      ]
     },
     "metadata": {
      "needs_background": "light"
     },
     "output_type": "display_data"
    }
   ],
   "source": [
    "one_batch = np.stack(list(ds_viz))[0]['image']\n",
    "\n",
    "blub = GL.call(tf.cast(one_batch[:1, :, :, :]/255, tf.float32))\n",
    "\n",
    "n1 = 6; n2 = n1 + 1\n",
    "\n",
    "plt.subplot(141)\n",
    "plt.imshow(one_batch[0,:,:,0], cmap='Greys')\n",
    "plt.subplot(142)\n",
    "plt.imshow(blub[0, :, :, n1], cmap='Greys')\n",
    "plt.subplot(143)\n",
    "plt.imshow(blub[0, :, :, n2], cmap='Greys')\n",
    "plt.subplot(144)\n",
    "plt.imshow(blub[0, :, :, n1]-blub[0, :, :, n2], cmap='Greys')"
   ]
  },
  {
   "cell_type": "code",
   "execution_count": null,
   "metadata": {},
   "outputs": [],
   "source": [
    "from pwc_gabor_layer.lenet import LeNet"
   ]
  },
  {
   "cell_type": "code",
   "execution_count": null,
   "metadata": {},
   "outputs": [],
   "source": [
    "lenet_gabor =  LeNet(learn_orientations=False, sigma_regularizer=SigmaRegularizer(factor=0.5), input_channels=1,\n",
    "                kernels1=2, kernels2=None)\n",
    "\n",
    "lenet_gabor.compile(loss='sparse_categorical_crossentropy', metrics='accuracy')"
   ]
  },
  {
   "cell_type": "code",
   "execution_count": null,
   "metadata": {},
   "outputs": [
    {
     "name": "stdout",
     "output_type": "stream",
     "text": [
      "Epoch 1/5\n",
      "469/469 [==============================] - 23s 49ms/step - loss: 0.0361 - accuracy: 0.9888 - val_loss: 0.0444 - val_accuracy: 0.9874\n",
      "Epoch 2/5\n",
      "469/469 [==============================] - 25s 53ms/step - loss: 0.0317 - accuracy: 0.9901 - val_loss: 0.0470 - val_accuracy: 0.9863\n",
      "Epoch 3/5\n",
      "469/469 [==============================] - 28s 59ms/step - loss: 0.0282 - accuracy: 0.9911 - val_loss: 0.0536 - val_accuracy: 0.9853\n",
      "Epoch 4/5\n",
      "450/469 [===========================>..] - ETA: 1s - loss: 0.0239 - accuracy: 0.9923"
     ]
    }
   ],
   "source": [
    "lenet_gabor.fit(ds_train, validation_data=ds_test, epochs=5)"
   ]
  },
  {
   "cell_type": "code",
   "execution_count": null,
   "metadata": {},
   "outputs": [
    {
     "name": "stdout",
     "output_type": "stream",
     "text": [
      "Model: \"le_net\"\n",
      "_________________________________________________________________\n",
      "Layer (type)                 Output Shape              Param #   \n",
      "=================================================================\n",
      "gabor_block (GaborBlock)     multiple                  358       \n",
      "_________________________________________________________________\n",
      "gabor_block_1 (GaborBlock)   multiple                  1008      \n",
      "_________________________________________________________________\n",
      "dense (Dense)                multiple                  200960    \n",
      "_________________________________________________________________\n",
      "dense_1 (Dense)              multiple                  65792     \n",
      "_________________________________________________________________\n",
      "dense_2 (Dense)              multiple                  2570      \n",
      "_________________________________________________________________\n",
      "max_pooling2d (MaxPooling2D) multiple                  0         \n",
      "_________________________________________________________________\n",
      "flatten (Flatten)            multiple                  0         \n",
      "=================================================================\n",
      "Total params: 270,688\n",
      "Trainable params: 270,322\n",
      "Non-trainable params: 366\n",
      "_________________________________________________________________\n"
     ]
    }
   ],
   "source": [
    "lenet_gabor.summary()"
   ]
  },
  {
   "cell_type": "code",
   "execution_count": null,
   "metadata": {},
   "outputs": [],
   "source": [
    "lenet_cnn =  LeNet(learn_orientations=False, input_channels=1,\n",
    "                kernels1=None, kernels2=None)\n",
    "\n",
    "lenet_cnn.compile(loss='sparse_categorical_crossentropy', metrics='accuracy')"
   ]
  },
  {
   "cell_type": "code",
   "execution_count": null,
   "metadata": {},
   "outputs": [
    {
     "name": "stdout",
     "output_type": "stream",
     "text": [
      "Epoch 1/5\n",
      "469/469 [==============================] - 22s 48ms/step - loss: 0.2519 - accuracy: 0.9214 - val_loss: 0.0687 - val_accuracy: 0.9768\n",
      "Epoch 2/5\n",
      "469/469 [==============================] - 22s 46ms/step - loss: 0.0644 - accuracy: 0.9801 - val_loss: 0.0784 - val_accuracy: 0.9741\n",
      "Epoch 3/5\n",
      "469/469 [==============================] - 22s 47ms/step - loss: 0.0435 - accuracy: 0.9861 - val_loss: 0.0397 - val_accuracy: 0.9877\n",
      "Epoch 4/5\n",
      "469/469 [==============================] - 22s 47ms/step - loss: 0.0328 - accuracy: 0.9900 - val_loss: 0.0299 - val_accuracy: 0.9900\n",
      "Epoch 5/5\n",
      "469/469 [==============================] - 22s 47ms/step - loss: 0.0247 - accuracy: 0.9924 - val_loss: 0.0310 - val_accuracy: 0.9896\n"
     ]
    },
    {
     "data": {
      "text/plain": [
       "<tensorflow.python.keras.callbacks.History at 0x2809f6fbec8>"
      ]
     },
     "execution_count": null,
     "metadata": {},
     "output_type": "execute_result"
    }
   ],
   "source": [
    "lenet_cnn.fit(ds_train, validation_data=ds_test, epochs=5)"
   ]
  },
  {
   "cell_type": "code",
   "execution_count": null,
   "metadata": {},
   "outputs": [
    {
     "name": "stdout",
     "output_type": "stream",
     "text": [
      "Model: \"le_net_1\"\n",
      "_________________________________________________________________\n",
      "Layer (type)                 Output Shape              Param #   \n",
      "=================================================================\n",
      "conv2d_2 (Conv2D)            multiple                  156       \n",
      "_________________________________________________________________\n",
      "conv2d_3 (Conv2D)            multiple                  2416      \n",
      "_________________________________________________________________\n",
      "dense_3 (Dense)              multiple                  200960    \n",
      "_________________________________________________________________\n",
      "dense_4 (Dense)              multiple                  65792     \n",
      "_________________________________________________________________\n",
      "dense_5 (Dense)              multiple                  2570      \n",
      "_________________________________________________________________\n",
      "max_pooling2d_1 (MaxPooling2 multiple                  0         \n",
      "_________________________________________________________________\n",
      "flatten_1 (Flatten)          multiple                  0         \n",
      "=================================================================\n",
      "Total params: 271,894\n",
      "Trainable params: 271,894\n",
      "Non-trainable params: 0\n",
      "_________________________________________________________________\n"
     ]
    }
   ],
   "source": [
    "lenet_cnn.summary()"
   ]
  }
 ],
 "metadata": {
  "kernelspec": {
   "display_name": "Handson",
   "language": "python",
   "name": "handson_ml"
  }
 },
 "nbformat": 4,
 "nbformat_minor": 4
}
