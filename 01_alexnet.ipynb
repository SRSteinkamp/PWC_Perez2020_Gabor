{
 "cells": [
  {
   "cell_type": "code",
   "execution_count": null,
   "metadata": {},
   "outputs": [],
   "source": [
    "#default_exp alexnet"
   ]
  },
  {
   "cell_type": "code",
   "execution_count": null,
   "metadata": {},
   "outputs": [],
   "source": [
    "# export\n",
    "from pwc_gabor_layer.core import GaborLayer, SigmaRegularizer\n",
    "import tensorflow_datasets as tfds\n",
    "import matplotlib.pyplot as plt\n",
    "import tensorflow as tf\n",
    "from tensorflow import keras\n",
    "import numpy as np"
   ]
  },
  {
   "cell_type": "code",
   "execution_count": null,
   "metadata": {},
   "outputs": [],
   "source": [
    "# hide\n",
    "%load_ext autoreload\n",
    "%autoreload 2"
   ]
  },
  {
   "cell_type": "markdown",
   "metadata": {},
   "source": [
    "## Build a GaborBlock"
   ]
  },
  {
   "cell_type": "code",
   "execution_count": null,
   "metadata": {},
   "outputs": [],
   "source": [
    "# exports\n",
    "class GaborBlock(keras.Model):\n",
    "    def __init__(self, filters_gabor, filters_conv,  kernel_size, \n",
    "                 learn_orientations=False, strides=(1, 1), \n",
    "                 padding='SAME', sigma_regularizer=None, **kwargs):\n",
    "        super().__init__(**kwargs)\n",
    "        \n",
    "        self.gabor_layer = GaborLayer(filters=filters_gabor, \n",
    "                                      kernel_size=kernel_size,\n",
    "                                      sigma_regularizer=sigma_regularizer,\n",
    "                                      learn_orientations=learn_orientations,\n",
    "                                      use_bias=False,\n",
    "                                      orientations=8,\n",
    "                                      activation='relu',\n",
    "                                      strides=strides,\n",
    "                                      padding=padding)\n",
    "        \n",
    "        self.conv_layer = keras.layers.Conv2D(filters=filters_conv,\n",
    "                                              kernel_size=(1, 1),\n",
    "                                              use_bias=False,\n",
    "                                              activation='relu')\n",
    "    \n",
    "    def call(self, x, training=False):\n",
    "        x = self.gabor_layer(x)\n",
    "        x = self.conv_layer(x)\n",
    "        \n",
    "        return x"
   ]
  },
  {
   "cell_type": "code",
   "execution_count": null,
   "metadata": {},
   "outputs": [],
   "source": [
    "# hide \n",
    "# Testing gabor block implementation\n",
    "GB = GaborBlock(3, 3, (11, 11))\n",
    "img = np.ones((1, 256, 256, 3)).astype(np.float32)\n",
    "out = np.array(GB(img))"
   ]
  },
  {
   "cell_type": "markdown",
   "metadata": {},
   "source": [
    "# Implementing AlexNet in Keras"
   ]
  },
  {
   "cell_type": "code",
   "execution_count": null,
   "metadata": {},
   "outputs": [],
   "source": [
    "# exports\n",
    "class AlexNet(keras.Model):\n",
    "    def __init__(self, num_classes=10, input_channels=3, \n",
    "                kernels1=None, kernels2=None, kernels3=None,\n",
    "                learn_orientations=False, **kwargs):\n",
    "        super().__init__(*kwargs)\n",
    "        \n",
    "        self.learn_orientations = learn_orientations\n",
    "        self.num_classes = num_classes\n",
    "        self.input_channels = input_channels\n",
    "        \n",
    "        self.conv1 = self.add_conv_layer(kernels1, 96, (11, 11), strides=4)\n",
    "        self.conv2 = self.add_conv_layer(kernels2, 256, (5, 5), strides=1)\n",
    "        self.conv3 = self.add_conv_layer(kernels3, 384, (3, 3), strides=1)\n",
    "            \n",
    "        # Define further conv layers:\n",
    "        \n",
    "        self.conv4 = self.add_conv_layer(None, 384, (3, 3), strides=1)\n",
    "        self.conv5 = self.add_conv_layer(None, 256, (3, 3), strides=1)\n",
    "        \n",
    "        # Define output (dense connections)\n",
    "        self.linear1 = keras.layers.Dense(512, activation='relu')\n",
    "        self.linear2 = keras.layers.Dense(512, activation='relu')\n",
    "        self.linear3 = keras.layers.Dense(self.num_classes, activation='sigmoid')\n",
    "        \n",
    "        # Supporting layers\n",
    "        self.maxpool = keras.layers.MaxPooling2D()\n",
    "        self.dropout = keras.layers.Dropout(0.5)\n",
    "        self.flatten = keras.layers.Flatten()\n",
    "            \n",
    "    def call(self, x, training=False):\n",
    "        # block 1\n",
    "        x = self.conv1(x)\n",
    "        x = self.maxpool(x)\n",
    "        # block 2\n",
    "        x = self.conv2(x)\n",
    "        x = self.maxpool(x)\n",
    "        # block 3\n",
    "        x = self.conv3(x)\n",
    "        x = self.conv4(x)\n",
    "        x = self.conv5(x)\n",
    "        x = self.maxpool(x)\n",
    "        # classifier\n",
    "        x = self.flatten(x)\n",
    "        x = self.linear1(x)\n",
    "        \n",
    "        if training:\n",
    "            x = self.dropout(x)\n",
    "        \n",
    "        x = self.linear2(x)\n",
    "        \n",
    "        if training:\n",
    "            x = self.dropout(x)\n",
    "            \n",
    "        x = self.linear3(x)\n",
    "        \n",
    "        return x\n",
    "    \n",
    "    \n",
    "    def add_conv_layer(self, gabor, filters_conv, kernel_size, strides):\n",
    "        \n",
    "        if gabor:\n",
    "            block = GaborBlock(filters_gabor=gabor,\n",
    "                                    filters_conv=filters_conv,\n",
    "                                    kernel_size=kernel_size,\n",
    "                                    strides=strides,\n",
    "                                    learn_orientations=self.learn_orientations)\n",
    "        else:\n",
    "            block = keras.layers.Conv2D(filters=filters_conv,\n",
    "                                       kernel_size=kernel_size,\n",
    "                                       strides=strides,\n",
    "                                       activation='relu',\n",
    "                                       padding='same')\n",
    "        return block\n"
   ]
  },
  {
   "cell_type": "code",
   "execution_count": null,
   "metadata": {},
   "outputs": [
    {
     "name": "stdout",
     "output_type": "stream",
     "text": [
      "1/1 [==============================] - 0s 155ms/step - loss: 16.1181\n"
     ]
    },
    {
     "data": {
      "text/plain": [
       "<tensorflow.python.keras.callbacks.History at 0x264800e93c8>"
      ]
     },
     "execution_count": null,
     "metadata": {},
     "output_type": "execute_result"
    }
   ],
   "source": [
    "# hide\n",
    "# Create some test examples, just to be sure\n",
    "img = np.ones((1, 224, 224, 3)).astype(np.float32)\n",
    "y = np.zeros((1, 10), dtype=int)\n",
    "y[0, 0] = 1\n",
    "# Test alexnet with gabor layers\n",
    "ANG = AlexNet(kernels1=3, kernels2=3, kernels3=3)\n",
    "out = np.array(ANG(img))\n",
    "\n",
    "ANG.compile(optimizer='sgd', loss='categorical_crossentropy')\n",
    "ANG.fit(x=img, y=y)"
   ]
  },
  {
   "cell_type": "code",
   "execution_count": null,
   "metadata": {},
   "outputs": [
    {
     "name": "stdout",
     "output_type": "stream",
     "text": [
      "1/1 [==============================] - 0s 76ms/step - loss: 2.3429\n"
     ]
    },
    {
     "data": {
      "text/plain": [
       "<tensorflow.python.keras.callbacks.History at 0x2648255fd88>"
      ]
     },
     "execution_count": null,
     "metadata": {},
     "output_type": "execute_result"
    }
   ],
   "source": [
    "# hide\n",
    "# Test alexnet with conv layer\n",
    "ANC = AlexNet()\n",
    "out = np.array(ANC(img))\n",
    "\n",
    "ANC.compile(optimizer='sgd', loss='categorical_crossentropy')\n",
    "ANC.fit(x=img, y=y)"
   ]
  }
 ],
 "metadata": {
  "kernelspec": {
   "display_name": "Handson",
   "language": "python",
   "name": "handson_ml"
  }
 },
 "nbformat": 4,
 "nbformat_minor": 4
}
