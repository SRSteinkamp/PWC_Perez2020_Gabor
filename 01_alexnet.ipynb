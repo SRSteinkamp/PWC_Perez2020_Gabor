{
 "cells": [
  {
   "cell_type": "code",
   "execution_count": null,
   "metadata": {},
   "outputs": [],
   "source": [
    "#default_exp alexnet"
   ]
  },
  {
   "cell_type": "code",
   "execution_count": null,
   "metadata": {},
   "outputs": [],
   "source": [
    "# export\n",
    "from pwc_gabor_layer.core import GaborLayer, SigmaRegularizer\n",
    "import tensorflow_datasets as tfds\n",
    "import matplotlib.pyplot as plt\n",
    "import tensorflow as tf\n",
    "from tensorflow import keras\n",
    "import numpy as np"
   ]
  },
  {
   "cell_type": "code",
   "execution_count": null,
   "metadata": {},
   "outputs": [],
   "source": [
    "# hide\n",
    "%load_ext autoreload\n",
    "%autoreload 2"
   ]
  },
  {
   "cell_type": "markdown",
   "metadata": {},
   "source": [
    "## Build a GaborBlock"
   ]
  },
  {
   "cell_type": "code",
   "execution_count": null,
   "metadata": {},
   "outputs": [],
   "source": [
    "# export\n",
    "class GaborBlock(keras.Model):\n",
    "    def __init__(self, filters_gabor, filters_conv,  kernel_size, \n",
    "                 learn_orientations=False, strides=(1, 1), \n",
    "                 padding='SAME', sigma_regularizer=None, **kwargs):\n",
    "        super().__init__(**kwargs)\n",
    "        \n",
    "        self.gabor_layer = GaborLayer(filters=filters_gabor, \n",
    "                                      kernel_size=kernel_size,\n",
    "                                      sigma_regularizer=sigma_regularizer,\n",
    "                                      learn_orientations=learn_orientations,\n",
    "                                      use_bias=False,\n",
    "                                      orientations=8,\n",
    "                                      activation='relu',\n",
    "                                      strides=strides,\n",
    "                                      padding=padding)\n",
    "        \n",
    "        self.conv_layer = keras.layers.Conv2D(filters=filters_conv,\n",
    "                                              kernel_size=(1, 1),\n",
    "                                              use_bias=False,\n",
    "                                              activation='relu')\n",
    "        \n",
    "        self.max_pooling = keras.layers.MaxPool2D()\n",
    "        \n",
    "    \n",
    "    def call(self, x, training=False):\n",
    "        x = self.gabor_layer(x)\n",
    "        x = self.conv_layer(x)\n",
    "        x = self.max_pooling(x)\n",
    "        \n",
    "        return x"
   ]
  },
  {
   "cell_type": "code",
   "execution_count": null,
   "metadata": {},
   "outputs": [],
   "source": [
    "GB = GaborBlock(3, 3, (11, 11))\n",
    "img = np.ones((1, 256, 256, 3)).astype(np.float32)\n",
    "out = np.array(GB(img))"
   ]
  },
  {
   "cell_type": "code",
   "execution_count": null,
   "metadata": {},
   "outputs": [],
   "source": [
    "# export\n",
    "class ConvBlock(keras.Model):\n",
    "    def __init__(self, filters, kernel_size,strides=(1, 1), \n",
    "                 padding='SAME', **kwargs):\n",
    "        super().__init__(**kwargs)\n",
    "        \n",
    "        self.conv_layer = keras.layers.Conv2D(filters=filters,\n",
    "                                              kernel_size=(1, 1),\n",
    "                                              activation='relu',\n",
    "                                              padding=padding,\n",
    "                                              strides=strides,\n",
    "                                              )\n",
    "        \n",
    "        self.max_pooling = keras.layers.MaxPool2D()\n",
    "        \n",
    "    \n",
    "    def call(self, x, training=False):\n",
    "        x = self.conv_layer(x)\n",
    "        x = self.max_pooling(x)\n",
    "        \n",
    "        return x"
   ]
  },
  {
   "cell_type": "code",
   "execution_count": null,
   "metadata": {},
   "outputs": [],
   "source": [
    "CB = ConvBlock(3, (3,3))\n",
    "img = np.ones((1, 256, 256, 3)).astype(np.float32)\n",
    "out = np.array(CB(img))"
   ]
  },
  {
   "cell_type": "markdown",
   "metadata": {},
   "source": [
    "# Implementing AlexNet in Keras"
   ]
  },
  {
   "cell_type": "code",
   "execution_count": null,
   "metadata": {},
   "outputs": [],
   "source": [
    "# export\n",
    "class AlexNet(keras.Model):\n",
    "    def __init__(self, num_classes=10, input_channels=3, \n",
    "                kernels1=None, kernels2=None, kernels3=None,\n",
    "                learn_orientations=False, **kwargs):\n",
    "        super().__init__(*kwargs)\n",
    "        \n",
    "        self.learn_orientations = learn_orientations\n",
    "        self.num_classes = num_classes\n",
    "        self.input_channels = input_channels\n",
    "        \n",
    "        if kernels1:\n",
    "            self.conv1 = GaborBlock(filters_gabor=kernels1,\n",
    "                                    filters_conv=96,\n",
    "                                    kernel_size=(11, 11),\n",
    "                                    strides=4,\n",
    "                                    padding='SAME',\n",
    "                                    learn_orientations=self.learn_orientations)\n",
    "        else:\n",
    "            self.conv1 = ConvBlock(filters=96,\n",
    "                                   kernel_size=(11, 11),\n",
    "                                   strides=4,\n",
    "                                   padding='same')\n",
    "\n",
    "            \n",
    "    def call(self, x, training=False):\n",
    "        \n",
    "        x = self.conv1(x)\n",
    "        \n",
    "        return x"
   ]
  },
  {
   "cell_type": "code",
   "execution_count": null,
   "metadata": {},
   "outputs": [],
   "source": [
    "# Test alexnet with gabor layers\n",
    "ANG = AlexNet(kernels1=3)\n",
    "img = np.ones((1, 256, 256, 3)).astype(np.float32)\n",
    "out = np.array(ANG(img))"
   ]
  },
  {
   "cell_type": "code",
   "execution_count": null,
   "metadata": {},
   "outputs": [],
   "source": []
  },
  {
   "cell_type": "code",
   "execution_count": null,
   "metadata": {},
   "outputs": [],
   "source": [
    "# Test alexnet with conv layer\n",
    "ANC = AlexNet(kernels1=None)\n",
    "img = np.ones((1, 256, 256, 3)).astype(np.float32)\n",
    "out = np.array(ANG(img))"
   ]
  },
  {
   "cell_type": "code",
   "execution_count": null,
   "metadata": {},
   "outputs": [],
   "source": []
  }
 ],
 "metadata": {
  "kernelspec": {
   "display_name": "Handson",
   "language": "python",
   "name": "handson_ml"
  }
 },
 "nbformat": 4,
 "nbformat_minor": 4
}
