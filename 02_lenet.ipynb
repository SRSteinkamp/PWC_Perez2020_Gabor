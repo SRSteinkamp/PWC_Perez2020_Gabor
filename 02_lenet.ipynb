{
 "cells": [
  {
   "cell_type": "code",
   "execution_count": null,
   "metadata": {},
   "outputs": [],
   "source": [
    "#default_exp lenet"
   ]
  },
  {
   "cell_type": "code",
   "execution_count": null,
   "metadata": {},
   "outputs": [],
   "source": [
    "# export\n",
    "from pwc_gabor_layer.core import GaborLayer, SigmaRegularizer\n",
    "from pwc_gabor_layer.alexnet import GaborBlock\n",
    "import tensorflow_datasets as tfds\n",
    "import matplotlib.pyplot as plt\n",
    "import tensorflow as tf\n",
    "from tensorflow import keras\n",
    "import numpy as np"
   ]
  },
  {
   "cell_type": "code",
   "execution_count": null,
   "metadata": {},
   "outputs": [],
   "source": [
    "# hide\n",
    "%load_ext autoreload\n",
    "%autoreload 2"
   ]
  },
  {
   "cell_type": "markdown",
   "metadata": {},
   "source": [
    "# Implementing LeNet in Keras"
   ]
  },
  {
   "cell_type": "code",
   "execution_count": null,
   "metadata": {},
   "outputs": [],
   "source": [
    "# exports\n",
    "class LeNet(keras.Model):\n",
    "    def __init__(self, num_classes=10, input_channels=1, \n",
    "                kernels1=None, kernels2=None,\n",
    "                learn_orientations=False, **kwargs):\n",
    "        super().__init__(*kwargs)\n",
    "        \n",
    "        self.learn_orientations = learn_orientations\n",
    "        self.num_classes = num_classes\n",
    "        self.input_channels = input_channels\n",
    "        \n",
    "        self.conv1 = self.add_conv_layer(kernels1, 6, (5, 5), strides=1)\n",
    "        self.conv2 = self.add_conv_layer(kernels2, 16, (5, 5), strides=1)\n",
    "            \n",
    "\n",
    "        # Define output (dense connections)\n",
    "        self.linear1 = keras.layers.Dense(256, activation='relu')\n",
    "        self.linear2 = keras.layers.Dense(256, activation='relu')\n",
    "        self.linear3 = keras.layers.Dense(self.num_classes, activation='sigmoid')\n",
    "        \n",
    "        # Supporting layers\n",
    "        self.maxpool = keras.layers.MaxPooling2D()\n",
    "        self.flatten = keras.layers.Flatten()\n",
    "            \n",
    "    def call(self, x, training=False):\n",
    "        # block 1\n",
    "        x = self.conv1(x)\n",
    "        x = self.maxpool(x)\n",
    "        # block 2\n",
    "        x = self.conv2(x)\n",
    "        x = self.maxpool(x)\n",
    "        # classifier\n",
    "        x = self.flatten(x)\n",
    "        \n",
    "        x = self.linear1(x)\n",
    "        x = self.linear2(x)\n",
    "        x = self.linear3(x)\n",
    "        \n",
    "        return x\n",
    "    \n",
    "    \n",
    "    def add_conv_layer(self, gabor, filters_conv, kernel_size, strides):\n",
    "        \n",
    "        if gabor:\n",
    "            block = GaborBlock(filters_gabor=gabor,\n",
    "                                    filters_conv=filters_conv,\n",
    "                                    kernel_size=kernel_size,\n",
    "                                    strides=strides,\n",
    "                                    learn_orientations=self.learn_orientations)\n",
    "        else:\n",
    "            block = keras.layers.Conv2D(filters=filters_conv,\n",
    "                                       kernel_size=kernel_size,\n",
    "                                       strides=strides,\n",
    "                                       activation='relu',\n",
    "                                       padding='same')\n",
    "        return block\n"
   ]
  },
  {
   "cell_type": "code",
   "execution_count": null,
   "metadata": {},
   "outputs": [
    {
     "name": "stdout",
     "output_type": "stream",
     "text": [
      "1/1 [==============================] - 0s 0s/step - loss: 1.9185\n"
     ]
    },
    {
     "data": {
      "text/plain": [
       "<tensorflow.python.keras.callbacks.History at 0x1c63dead048>"
      ]
     },
     "execution_count": null,
     "metadata": {},
     "output_type": "execute_result"
    }
   ],
   "source": [
    "# hide\n",
    "# Create some test examples, just to be sure\n",
    "img = np.ones((1, 28, 28, 2)).astype(np.float32)\n",
    "y = np.zeros((1, 10), dtype=int)\n",
    "y[0, 0] = 1\n",
    "# Test Lenet with gabor layers\n",
    "LNG = LeNet(kernels1=2, kernels2=2)\n",
    "out = np.array(LNG(img))\n",
    "\n",
    "LNG.compile(optimizer='sgd', loss='categorical_crossentropy')\n",
    "LNG.fit(x=img, y=y)"
   ]
  },
  {
   "cell_type": "code",
   "execution_count": null,
   "metadata": {},
   "outputs": [
    {
     "name": "stdout",
     "output_type": "stream",
     "text": [
      "1/1 [==============================] - 0s 0s/step - loss: 2.3705\n"
     ]
    },
    {
     "data": {
      "text/plain": [
       "<tensorflow.python.keras.callbacks.History at 0x1c63f1604c8>"
      ]
     },
     "execution_count": null,
     "metadata": {},
     "output_type": "execute_result"
    }
   ],
   "source": [
    "# hide\n",
    "# Test alexnet with conv layer\n",
    "LNC = LeNet()\n",
    "out = np.array(LNC(img))\n",
    "\n",
    "LNC.compile(optimizer='sgd', loss='categorical_crossentropy')\n",
    "LNC.fit(x=img, y=y)"
   ]
  },
  {
   "cell_type": "code",
   "execution_count": null,
   "metadata": {},
   "outputs": [],
   "source": []
  }
 ],
 "metadata": {
  "kernelspec": {
   "display_name": "Handson",
   "language": "python",
   "name": "handson_ml"
  }
 },
 "nbformat": 4,
 "nbformat_minor": 4
}
