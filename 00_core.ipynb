{
 "cells": [
  {
   "cell_type": "code",
   "execution_count": null,
   "metadata": {},
   "outputs": [],
   "source": [
    "# default_exp core"
   ]
  },
  {
   "cell_type": "markdown",
   "metadata": {},
   "source": [
    "# core\n",
    "\n",
    "> API details."
   ]
  },
  {
   "cell_type": "code",
   "execution_count": null,
   "metadata": {},
   "outputs": [],
   "source": [
    "#hide\n",
    "from nbdev.showdoc import *"
   ]
  },
  {
   "cell_type": "code",
   "execution_count": null,
   "metadata": {},
   "outputs": [],
   "source": [
    "#export\n",
    "import functools\n",
    "import math\n",
    "import tensorflow as tf\n",
    "import tensorflow_datasets as tfds\n",
    "from datetime import datetime\n",
    "from tensorflow.python.ops import nn_ops\n",
    "from tensorflow import keras\n",
    "from fastcore.nb_imports import *\n",
    "from fastcore.test import *\n",
    "from fastcore.foundation import *\n",
    "import warnings"
   ]
  },
  {
   "cell_type": "markdown",
   "metadata": {},
   "source": [
    "# Gabor Layer Math\n",
    "\n",
    "$$G_\\theta(x',y';\\sigma,\\gamma,\\lambda,\\psi):=e^{-\\frac{(x'^2+\\gamma^2y'^2)}{\\sigma^2}}cos(\\lambda x' + \\psi)$$\n",
    "$$x' = x cos\\theta - y sin\\theta$$\n",
    "$$y' = x sin\\theta + y cos\\theta$$"
   ]
  },
  {
   "cell_type": "code",
   "execution_count": null,
   "metadata": {},
   "outputs": [],
   "source": [
    "#export\n",
    "class GaborLayer(keras.layers.Layer):\n",
    "    def __init__(self, filters, kernel_size, orientations, learn_orientations=False,\n",
    "                 use_bias=True, activation='relu', strides=(1, 1), \n",
    "                 padding='SAME', use_alphas=True, sigma_regularizer=None, **kwargs):\n",
    "        super().__init__(**kwargs)\n",
    "        self.filters = filters\n",
    "        self.kernel_size = kernel_size\n",
    "        self.orientations = orientations\n",
    "        self.learn_orientations = learn_orientations\n",
    "        self.use_bias = use_bias\n",
    "        self.strides = strides\n",
    "        # can use strings as activation functions\n",
    "        self.activation = keras.activations.get(activation)\n",
    "        self.padding = padding\n",
    "        self.rank = 2\n",
    "        self.pi = tf.constant(math.pi, dtype=tf.float32)\n",
    "        self.use_alphas = use_alphas\n",
    "        self.sigma_regularizer = sigma_regularizer\n",
    "        \n",
    "        if self.learn_orientations:\n",
    "            self.total_filters = self.filters\n",
    "            if self.orientations > 0:\n",
    "                warnings.warn('Orientations parameters is of no use.')\n",
    "        else:\n",
    "            self.total_filters = self.filters * self.orientations"
   ]
  },
  {
   "cell_type": "code",
   "execution_count": null,
   "metadata": {},
   "outputs": [],
   "source": [
    "GT = GaborLayer(10, (10, 10), 0, True)\n",
    "test_eq(GT.total_filters, 10)\n",
    "GT = GaborLayer(10, (10, 10), 3, False)\n",
    "test_eq(GT.total_filters, 30)"
   ]
  },
  {
   "cell_type": "code",
   "execution_count": null,
   "metadata": {},
   "outputs": [],
   "source": [
    "#export\n",
    "@patch\n",
    "def create_xy_grid(self:GaborLayer):\n",
    "    xmin, xmax = -1.0, 1.0\n",
    "    ymin, ymax = -1.0, 1.0\n",
    "    x_space = tf.linspace(xmin, xmax, self.kernel_size[0])\n",
    "    y_space = tf.linspace(ymin, ymax, self.kernel_size[1])\n",
    "    x, y = tf.meshgrid(y_space, x_space)\n",
    "    \n",
    "    return x, y"
   ]
  },
  {
   "cell_type": "markdown",
   "metadata": {},
   "source": [
    "Test the outputs size of the meshgrid."
   ]
  },
  {
   "cell_type": "code",
   "execution_count": null,
   "metadata": {},
   "outputs": [],
   "source": [
    "kernel_size = (10, 10)\n",
    "x, y = GaborLayer(filters=10, kernel_size=kernel_size, orientations=8).create_xy_grid()\n",
    "\n",
    "test_eq(x.shape, kernel_size)\n",
    "test_eq(y.shape, kernel_size)\n",
    "\n",
    "kernel_size = (5, 10)\n",
    "x, y = GaborLayer(filters=10, kernel_size=kernel_size, orientations=8).create_xy_grid()\n",
    "\n",
    "test_eq(x.shape, kernel_size)\n",
    "test_eq(y.shape, kernel_size)"
   ]
  },
  {
   "cell_type": "code",
   "execution_count": null,
   "metadata": {},
   "outputs": [],
   "source": [
    "#export\n",
    "@patch\n",
    "def build(self:GaborLayer, batch_input_shape):\n",
    "        self.input_channels = batch_input_shape[-1]\n",
    "        \n",
    "        self.gammas = self.add_weight(name='gammas', shape=[self.filters, 1, 1, 1, 1], \n",
    "                                            initializer='random_normal', trainable=True)\n",
    "        self.psis = self.add_weight(name='psis', shape=[self.filters, 1, 1, 1, 1], \n",
    "                                   initializer='random_normal', trainable=True)\n",
    "        self.sigmas = self.add_weight(name='sigmas', shape=[self.filters, 1, 1, 1, 1], \n",
    "                                      initializer='random_normal', trainable=True, \n",
    "                                      regularizer=self.sigma_regularizer)\n",
    "        self.lambdas = self.add_weight(name='lambdas', shape=[self.filters, 1, 1, 1, 1], \n",
    "                                   initializer='random_normal', trainable=True)\n",
    "        \n",
    "        if self.use_alphas:\n",
    "            self.alphas = self.add_weight(name='alphas', shape=[self.total_filters, 1, 1, 1], \n",
    "                                   initializer='random_normal', trainable=True)\n",
    "        \n",
    "        if self.use_bias:\n",
    "            self.bias = self.add_weight(name='bias', shape=[self.total_filters],\n",
    "                                         initializer='zeros')\n",
    "            \n",
    "        if self.learn_orientations:\n",
    "            self.thetas = self.add_weight(name='thetas', shape=[self.filters, 1, 1, 1], \n",
    "                                          initializer='random_normal')\n",
    "        else:\n",
    "            thetas = (tf.range(0, self.orientations, dtype=tf.float32) * 2 * self.pi) / self.orientations\n",
    "            thetas = tf.reshape(thetas, (self.orientations, 1 ,1, 1))\n",
    "            self.thetas = tf.Variable(thetas, name='thetas', trainable=False)\n",
    "\n",
    "        x, y = self.create_xy_grid()\n",
    "        \n",
    "        x = x[None, :, :, None]\n",
    "        y = y[None, :, :, None]\n",
    "        \n",
    "        x = tf.repeat(x, repeats=self.input_channels, axis=-1)\n",
    "        y = tf.repeat(y, repeats=self.input_channels, axis=-1)\n",
    "        \n",
    "        self.x = tf.Variable(x, name='x', trainable=False)\n",
    "        self.y = tf.Variable(y, name='y', trainable=False)\n",
    "        \n",
    "        self._convolution_op = functools.partial(nn_ops.convolution_v2, strides=self.strides,\n",
    "                                                padding=self.padding,\n",
    "                                                name=\"Gabor_Convolution\")\n",
    "        self.kernel = self.create_kernel()\n",
    "\n",
    "        self.built = True\n",
    "        #super(GaborLayer, self).build(batch_input_shape)"
   ]
  },
  {
   "cell_type": "code",
   "execution_count": null,
   "metadata": {},
   "outputs": [],
   "source": [
    "nn_ops.convolution_v2?"
   ]
  },
  {
   "cell_type": "code",
   "execution_count": null,
   "metadata": {},
   "outputs": [],
   "source": [
    "# export\n",
    "@patch\n",
    "def create_kernel(self:GaborLayer):\n",
    "    sines = tf.sin(self.thetas)\n",
    "    cosines = tf.cos(self.thetas)\n",
    "\n",
    "    xprime = self.x * cosines - self.y * sines\n",
    "    yprime = self.x * sines + self.y * cosines\n",
    "\n",
    "    if self.learn_orientations:\n",
    "        # Expanding in Filter direction\n",
    "        xprime = xprime[:, None, :, :]\n",
    "        yprime = yprime[:, None, :, :]\n",
    "    else:\n",
    "        # Expanding in Orientation direction\n",
    "        xprime = xprime[None, :, :, :]\n",
    "        yprime = yprime[None, :, :, :]\n",
    "        \n",
    "    ori_y_term = self.gammas ** 2 * yprime ** 2\n",
    "    exponent_ori = (xprime ** 2 + ori_y_term) * self.sigmas ** 2\n",
    "    gaussian_term_ori = tf.exp(-exponent_ori)\n",
    "    cosine_term = tf.cos(xprime * self.lambdas + self.psis)\n",
    "\n",
    "    ori_gb = gaussian_term_ori * cosine_term\n",
    "    ori_gb = tf.reshape(ori_gb, \n",
    "                        (self.total_filters, \n",
    "                         *self.kernel_size, self.input_channels))\n",
    "\n",
    "    if self.use_alphas:\n",
    "        ori_gb = self.alphas * ori_gb\n",
    "        \n",
    "    kernel = ori_gb\n",
    "    return kernel\n"
   ]
  },
  {
   "cell_type": "code",
   "execution_count": null,
   "metadata": {},
   "outputs": [],
   "source": [
    "#export\n",
    "@patch\n",
    "def call(self:GaborLayer, X):\n",
    "    \n",
    "    self.kernel = self.create_kernel()\n",
    "    kernel = tf.transpose(self.kernel, [1, 2, 3, 0])\n",
    "\n",
    "    X = self._convolution_op(X, kernel)\n",
    "\n",
    "    if self.use_bias:\n",
    "        X = tf.nn.bias_add(X, self.bias)\n",
    "\n",
    "    X = self.activation(X)\n",
    "    return X\n"
   ]
  },
  {
   "cell_type": "code",
   "execution_count": null,
   "metadata": {},
   "outputs": [
    {
     "data": {
      "image/png": "[encoded data removed]",
      "text/plain": [
       "<Figure size 432x288 with 16 Axes>"
      ]
     },
     "metadata": {
      "needs_background": "light"
     },
     "output_type": "display_data"
    },
    {
     "data": {
      "image/png": "[encoded data removed]",
      "text/plain": [
       "<Figure size 432x288 with 16 Axes>"
      ]
     },
     "metadata": {
      "needs_background": "light"
     },
     "output_type": "display_data"
    }
   ],
   "source": [
    "GL = GaborLayer(filters=2, kernel_size=(15, 15), orientations=8, use_alphas=True)\n",
    "GL.build([None, 28, 28, 2])\n",
    "\n",
    "\n",
    "for jj in range(2):\n",
    "    fig, axes = plt.subplots(2, 8)\n",
    "\n",
    "    for n, ax in enumerate(axes.flatten()):\n",
    "        ax.imshow(GL.kernel[n,:,:,jj])\n",
    "        ax.axis('off')\n",
    "    \n",
    "    plt.tight_layout()"
   ]
  },
  {
   "cell_type": "code",
   "execution_count": null,
   "metadata": {},
   "outputs": [
    {
     "data": {
      "image/png": "[encoded data removed]",
      "text/plain": [
       "<Figure size 432x288 with 16 Axes>"
      ]
     },
     "metadata": {
      "needs_background": "light"
     },
     "output_type": "display_data"
    },
    {
     "data": {
      "image/png": "[encoded data removed]",
      "text/plain": [
       "<Figure size 432x288 with 16 Axes>"
      ]
     },
     "metadata": {
      "needs_background": "light"
     },
     "output_type": "display_data"
    }
   ],
   "source": [
    "GL = GaborLayer(filters=16, kernel_size=(15, 15), orientations=0, \n",
    "                use_alphas=True, learn_orientations=True)\n",
    "GL.build([None, 28, 28, 2])\n",
    "\n",
    "\n",
    "for jj in range(2):\n",
    "    fig, axes = plt.subplots(2, 8)\n",
    "\n",
    "    for n, ax in enumerate(axes.flatten()):\n",
    "        ax.imshow(GL.kernel[n,:,:,jj])\n",
    "        ax.axis('off')\n",
    "    \n",
    "    plt.tight_layout()"
   ]
  },
  {
   "cell_type": "code",
   "execution_count": null,
   "metadata": {},
   "outputs": [],
   "source": [
    "#export\n",
    "@patch\n",
    "def get_config(self:GaborLayer):\n",
    "\n",
    "    config = super(GaborLayer, self).get_config().copy()\n",
    "    config.update({\n",
    "        'filters': self.filters,\n",
    "        'kernel_size': self.kernel_size,\n",
    "        'orientations': self.orientations,\n",
    "        'learn_orientations': self.learn_orientations,\n",
    "        'use_bias': self.use_bias,\n",
    "        'strides': self.strides,\n",
    "        'activation' : self.activation,\n",
    "        'padding': self.padding,\n",
    "        'rank': self.rank,\n",
    "        'pi': self.pi,\n",
    "        'use_alphas': self.use_alphas,\n",
    "        'kernel': self.kernel,\n",
    "        'total_filters': self.total_filters\n",
    "    })\n",
    "    return config\n"
   ]
  },
  {
   "cell_type": "code",
   "execution_count": null,
   "metadata": {},
   "outputs": [],
   "source": [
    "GL.get_config();"
   ]
  },
  {
   "cell_type": "markdown",
   "metadata": {},
   "source": [
    "# Implementing Regularizer"
   ]
  },
  {
   "cell_type": "code",
   "execution_count": null,
   "metadata": {},
   "outputs": [],
   "source": [
    "# export\n",
    "class SigmaRegularizer(keras.regularizers.Regularizer):\n",
    "    def __init__(self, factor):\n",
    "        self.factor = factor\n",
    "        \n",
    "    def __call__(self, weights):    \n",
    "        return tf.reduce_sum(weights ** 2) * self.factor\n",
    "    \n",
    "    def get_config(self):\n",
    "        return {'factor': self.factor}"
   ]
  },
  {
   "cell_type": "code",
   "execution_count": null,
   "metadata": {},
   "outputs": [
    {
     "name": "stdout",
     "output_type": "stream",
     "text": [
      "Converted 00_core.ipynb.\n",
      "Converted 01_alexnet.ipynb.\n",
      "Converted 02_lenet.ipynb.\n",
      "Converted experiments.ipynb.\n",
      "Converted index.ipynb.\n"
     ]
    }
   ],
   "source": [
    "from nbdev.export import notebook2script; notebook2script()"
   ]
  },
  {
   "cell_type": "code",
   "execution_count": null,
   "metadata": {},
   "outputs": [],
   "source": []
  }
 ],
 "metadata": {
  "kernelspec": {
   "display_name": "Handson",
   "language": "python",
   "name": "handson_ml"
  }
 },
 "nbformat": 4,
 "nbformat_minor": 2
}
