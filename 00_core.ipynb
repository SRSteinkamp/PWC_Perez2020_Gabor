{
 "cells": [
  {
   "cell_type": "code",
   "execution_count": null,
   "metadata": {},
   "outputs": [],
   "source": [
    "# default_exp core"
   ]
  },
  {
   "cell_type": "markdown",
   "metadata": {},
   "source": [
    "# core\n",
    "\n",
    "> API details."
   ]
  },
  {
   "cell_type": "code",
   "execution_count": null,
   "metadata": {},
   "outputs": [],
   "source": [
    "#hide\n",
    "from nbdev.showdoc import *"
   ]
  },
  {
   "cell_type": "code",
   "execution_count": null,
   "metadata": {},
   "outputs": [],
   "source": [
    "#export\n",
    "import functools\n",
    "import math\n",
    "import tensorflow as tf\n",
    "import tensorflow_datasets as tfds\n",
    "from datetime import datetime\n",
    "from tensorflow.python.ops import nn_ops\n",
    "from tensorflow import keras\n",
    "from fastcore.nb_imports import *\n",
    "from fastcore.test import *\n",
    "from fastcore.foundation import *"
   ]
  },
  {
   "cell_type": "markdown",
   "metadata": {},
   "source": [
    "# Gabor Layer Math\n",
    "\n",
    "$$G_\\theta(x',y';\\sigma,\\gamma,\\lambda,\\psi):=e^{-\\frac{(x'^2+\\gamma^2y'^2)}{\\sigma^2}}cos(\\lambda x' + \\psi)$$\n",
    "$$x' = x cos\\theta - y sin\\theta$$\n",
    "$$y' = x sin\\theta + y cos\\theta$$"
   ]
  },
  {
   "cell_type": "code",
   "execution_count": null,
   "metadata": {},
   "outputs": [],
   "source": [
    "#export\n",
    "class GaborLayer(keras.layers.Layer):\n",
    "    def __init__(self, filters, kernel_size, orientations, learn_orientations=False,\n",
    "                 use_bias=True, activation='relu', strides=(1, 1), padding='SAME', use_alphas=True, **kwargs):\n",
    "        super().__init__(**kwargs)\n",
    "        self.filters = filters\n",
    "        self.kernel_size = kernel_size\n",
    "        self.orientations = orientations\n",
    "        self.learn_orientations = learn_orientations\n",
    "        self.use_bias = use_bias\n",
    "        self.strides = strides\n",
    "        # can use strings as activation functions\n",
    "        self.activation = keras.activations.get(activation)\n",
    "        self.padding = padding\n",
    "        self.rank = 2\n",
    "        self.pi = tf.constant(math.pi, dtype=tf.float32)\n",
    "        self.use_alphas = use_alphas"
   ]
  },
  {
   "cell_type": "code",
   "execution_count": null,
   "metadata": {},
   "outputs": [],
   "source": []
  },
  {
   "cell_type": "code",
   "execution_count": null,
   "metadata": {},
   "outputs": [],
   "source": [
    "#export\n",
    "@patch\n",
    "def create_xy_grid(self:GaborLayer):\n",
    "    xmin, xmax = -1.0, 1.0\n",
    "    ymin, ymax = -1.0, 1.0\n",
    "    x_space = tf.linspace(xmin, xmax, self.kernel_size[0])\n",
    "    y_space = tf.linspace(ymin, ymax, self.kernel_size[1])\n",
    "    x, y = tf.meshgrid(y_space, x_space)\n",
    "    \n",
    "    return x, y"
   ]
  },
  {
   "cell_type": "markdown",
   "metadata": {},
   "source": [
    "Test the outputs size of the meshgrid."
   ]
  },
  {
   "cell_type": "code",
   "execution_count": null,
   "metadata": {},
   "outputs": [],
   "source": [
    "kernel_size = (10, 10)\n",
    "x, y = GaborLayer(filters=10, kernel_size=kernel_size, orientations=8).create_xy_grid()\n",
    "\n",
    "test_eq(x.shape, kernel_size)\n",
    "test_eq(y.shape, kernel_size)\n",
    "\n",
    "kernel_size = (5, 10)\n",
    "x, y = GaborLayer(filters=10, kernel_size=kernel_size, orientations=8).create_xy_grid()\n",
    "\n",
    "test_eq(x.shape, kernel_size)\n",
    "test_eq(y.shape, kernel_size)"
   ]
  },
  {
   "cell_type": "code",
   "execution_count": null,
   "metadata": {},
   "outputs": [],
   "source": [
    "#export\n",
    "@patch\n",
    "def build(self:GaborLayer, batch_input_shape):\n",
    "        self.input_channels = batch_input_shape[-1]\n",
    "        \n",
    "        self.gammas = self.add_weight(name='gammas', shape=[self.filters, 1, 1, 1, 1], \n",
    "                                            initializer='random_normal', trainable=True)\n",
    "        self.psis = self.add_weight(name='psis', shape=[self.filters, 1, 1, 1, 1], \n",
    "                                   initializer='random_normal', trainable=True)\n",
    "        self.sigmas = self.add_weight(name='sigmas', shape=[self.filters, 1, 1, 1, 1], \n",
    "                                   initializer='random_normal', trainable=True)\n",
    "        self.lambdas = self.add_weight(name='lambdas', shape=[self.filters, 1, 1, 1, 1], \n",
    "                                   initializer='random_normal', trainable=True)\n",
    "        \n",
    "        if self.use_alphas:\n",
    "            self.alphas = self.add_weight(name='alphas', shape=[self.filters * self.orientations, 1, 1, 1], \n",
    "                                   initializer='random_normal', trainable=True)\n",
    "        \n",
    "        if self.use_bias:\n",
    "            self.bias = self.add_weight(name='bias', shape=[self.filters * self.orientations],\n",
    "                                         initializer='zeros')\n",
    "                \n",
    "        thetas = (tf.range(0, self.orientations, dtype=tf.float32) * 2 * self.pi) / self.orientations\n",
    "        thetas = tf.reshape(thetas, (self.orientations, 1 ,1, 1))\n",
    "        self.thetas = tf.Variable(thetas, name='thetas', trainable=self.learn_orientations)\n",
    "        \n",
    "        x, y = self.create_xy_grid()\n",
    "        \n",
    "        x = x[None, :, :, None]\n",
    "        y = y[None, :, :, None]\n",
    "        \n",
    "        x = tf.repeat(x, repeats=self.input_channels, axis=-1)\n",
    "        y = tf.repeat(y, repeats=self.input_channels, axis=-1)\n",
    "        \n",
    "        sines = tf.sin(self.thetas)\n",
    "        cosines = tf.cos(self.thetas)\n",
    "        \n",
    "        self.sines = sines\n",
    "        self.cosines = cosines\n",
    "        xprime = x * cosines - y * sines\n",
    "        yprime = x * sines + y * cosines\n",
    "        \n",
    "        xprime = xprime[None, :, :]\n",
    "        yprime = yprime[None, :, :]\n",
    "        \n",
    "        \n",
    "        self.x = tf.Variable(xprime, name='x', trainable=False)\n",
    "        self.y = tf.Variable(yprime, name='y', trainable=False)\n",
    "        \n",
    "        self.kernel = self.create_kernel()\n",
    "        \n",
    "        self._convolution_op = functools.partial(nn_ops.convolution_v2, strides=self.strides,\n",
    "                                                padding=self.padding,\n",
    "                                                name=\"Gabor_Convolution\")\n",
    "        \n",
    "        super(GaborLayer, self).build(batch_input_shape)"
   ]
  },
  {
   "cell_type": "code",
   "execution_count": null,
   "metadata": {},
   "outputs": [],
   "source": [
    "# export\n",
    "@patch\n",
    "def create_kernel(self:GaborLayer):\n",
    "    ori_y_term = self.gammas ** 2 * self.y ** 2\n",
    "    exponent_ori = (self.x ** 2 + ori_y_term) * self.sigmas ** 2\n",
    "    gaussian_term_ori = tf.exp(-exponent_ori)\n",
    "    cosine_term = tf.cos(self.x * self.lambdas + self.psis)\n",
    "    ori_gb = gaussian_term_ori * cosine_term\n",
    "    self.ori_gb = ori_gb\n",
    "    ori_gb = tf.reshape(ori_gb, \n",
    "                        (self.filters * self.orientations, \n",
    "                         *self.kernel_size, self.input_channels))\n",
    "    \n",
    "    if self.use_alphas:\n",
    "        ori_gb = self.alphas * ori_gb\n",
    "    \n",
    "    return ori_gb"
   ]
  },
  {
   "cell_type": "code",
   "execution_count": null,
   "metadata": {},
   "outputs": [],
   "source": [
    "#export\n",
    "@patch\n",
    "def call(self:GaborLayer, X):\n",
    "    bs, h, w, inp_channels = X.shape\n",
    "\n",
    "    kernel = tf.transpose(self.kernel, [1, 2, 3, 0])\n",
    "\n",
    "    X = self._convolution_op(X, kernel)\n",
    "\n",
    "    if self.use_bias:\n",
    "        X = tf.nn.bias_add(X, self.bias)\n",
    "\n",
    "    X = self.activation(X)\n",
    "    return X\n"
   ]
  },
  {
   "cell_type": "code",
   "execution_count": null,
   "metadata": {},
   "outputs": [
    {
     "data": {
      "image/png": "[encoded data removed]",
      "text/plain": [
       "<Figure size 432x288 with 16 Axes>"
      ]
     },
     "metadata": {
      "needs_background": "light"
     },
     "output_type": "display_data"
    }
   ],
   "source": [
    "GL = GaborLayer(filters=2, kernel_size=(15, 15), orientations=8, use_alphas=True)\n",
    "GL.build([None, 28, 28, 3])\n",
    "\n",
    "fig, axes = plt.subplots(2, 8)\n",
    "\n",
    "for n, ax in enumerate(axes.flatten()):\n",
    "    ax.imshow(GL.kernel[n,:,:,0])\n",
    "    ax.axis('off')"
   ]
  },
  {
   "cell_type": "code",
   "execution_count": null,
   "metadata": {},
   "outputs": [
    {
     "data": {
      "text/plain": [
       "TensorShape([16, 15, 15, 3])"
      ]
     },
     "execution_count": null,
     "metadata": {},
     "output_type": "execute_result"
    }
   ],
   "source": [
    "GL.kernel.shape"
   ]
  },
  {
   "cell_type": "code",
   "execution_count": null,
   "metadata": {},
   "outputs": [
    {
     "name": "stdout",
     "output_type": "stream",
     "text": [
      "Converted 00_core.ipynb.\n",
      "Converted experiments.ipynb.\n",
      "Converted index.ipynb.\n"
     ]
    }
   ],
   "source": [
    "from nbdev.export import notebook2script; notebook2script()"
   ]
  },
  {
   "cell_type": "code",
   "execution_count": null,
   "metadata": {},
   "outputs": [],
   "source": []
  }
 ],
 "metadata": {
  "kernelspec": {
   "display_name": "Python 3",
   "language": "python",
   "name": "python3"
  }
 },
 "nbformat": 4,
 "nbformat_minor": 2
}
